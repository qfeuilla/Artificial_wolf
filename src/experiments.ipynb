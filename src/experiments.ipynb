{
 "cells": [
  {
   "cell_type": "code",
   "execution_count": 4,
   "metadata": {},
   "outputs": [],
   "source": [
    "from character import Player, get_next_speaker\n",
    "import numpy as np\n",
    "from typing import Dict, List\n",
    "import time\n",
    "from utils import make_chat_tree, merge_chat_trees\n",
    "import json\n",
    "from tqdm import tqdm"
   ]
  },
  {
   "cell_type": "code",
   "execution_count": 5,
   "metadata": {},
   "outputs": [],
   "source": [
    "# Hyperparameters\n",
    "player_names = [\"Thomas\", \"Emily\", \"Benjamin\", \"Sophia\", \"Victoria\"]\n",
    "roles = [0,0,0,1,1]\n",
    "\n",
    "model = \"gpt-3.5-turbo-16k\" # \"gpt-4-0314\"\n",
    "\n",
    "role_map = {\n",
    "    0: \"peasant\",\n",
    "    1: \"werewolf\"\n",
    "}"
   ]
  },
  {
   "cell_type": "code",
   "execution_count": 6,
   "metadata": {},
   "outputs": [
    {
     "name": "stderr",
     "output_type": "stream",
     "text": []
    },
    {
     "name": "stdout",
     "output_type": "stream",
     "text": [
      "Thomas: Good evening, fellow villagers. It deeply saddens me to inform you that our dear friend Bob has been taken from our midst by the treacherous claws of the Werewolf. We must act swiftly and decisively to protect our village. I urge each of you to share any suspicions or observations you may have. We cannot afford to be complacent in the face of this grave threat.\n"
     ]
    }
   ],
   "source": [
    "n_games = 20\n",
    "\n",
    "for game in tqdm(range(2, n_games)):\n",
    "\n",
    "    # Init game\n",
    "    np.random.seed(int(time.time()))\n",
    "    np.random.shuffle(roles)\n",
    "\n",
    "    # Get all werewolf for extra information\n",
    "    werewolf_names = [name.lower() for i, name in enumerate(player_names) if role_map[roles[i]] == \"werewolf\"]\n",
    "\n",
    "    # Init all the players\n",
    "    players : Dict[str, Player] = {}\n",
    "    for i, name in enumerate(player_names):\n",
    "        players[name.lower()] = Player(name, model=model, role=role_map[roles[i]], extra=[\"The werewolfs (including you) are [\" + \",\".join(werewolf_names) + \"].\"] if name.lower() in werewolf_names else [])\n",
    "        players[name.lower()].init_player(players=player_names)\n",
    "\n",
    "    rounds = 0\n",
    "    stop = False\n",
    "    conversation_history = []\n",
    "    conversation_history_uncensored = []\n",
    "\n",
    "    # Debate stage\n",
    "    while rounds < 15 and not stop:\n",
    "        rounds += 1\n",
    "        next_to_speak = get_next_speaker(conversation_history, player_names, \"gpt-4-0314\").lower()\n",
    "\n",
    "        if next_to_speak != \"vote\":    \n",
    "            censored, uncensored = players[next_to_speak].get_player_text()\n",
    "            \n",
    "            for name in player_names:\n",
    "                if name.lower() != next_to_speak:\n",
    "                    players[name.lower()].add_other_text(censored)\n",
    "        \n",
    "            conversation_history.append(censored)\n",
    "            conversation_history_uncensored.append(uncensored)\n",
    "\n",
    "            print(uncensored)\n",
    "        else:\n",
    "            break\n",
    "\n",
    "    # Vote stage\n",
    "    votes = {name.lower(): 0 for name in player_names}\n",
    "\n",
    "    vote_prompt = make_chat_tree(\"../prompts/vote_prompt.json\")\n",
    "    conversation_history.append(vote_prompt.content)\n",
    "\n",
    "    print(vote_prompt.content)\n",
    "\n",
    "    for name in player_names:\n",
    "        players[name.lower()].add_other_text(vote_prompt.content)\n",
    "        if name.lower() in werewolf_names:\n",
    "            players[name.lower()].current_context.content += f\"\\n{name}: [I know that I am the werewolf. The werewolf are (including me): {', '.join(werewolf_names)}, I must not vote for any werewolf]\"\n",
    "\n",
    "    for voting_name in player_names:\n",
    "        censored, uncensored = players[voting_name.lower()].get_player_text()\n",
    "\n",
    "        for name in player_names:\n",
    "            if name.lower() != voting_name:\n",
    "                players[name.lower()].add_other_text(censored)\n",
    "        \n",
    "        conversation_history.append(censored)\n",
    "        conversation_history_uncensored.append(uncensored)\n",
    "\n",
    "        voted_for = \"\"\n",
    "        search = censored.lower()\n",
    "        for name in player_names:\n",
    "            if name.lower() in search:\n",
    "                voted_for = name.lower()\n",
    "                search = search.split(name.lower())[-1]\n",
    "    \n",
    "        try:\n",
    "            votes[voted_for] += 1\n",
    "        except:\n",
    "            pass\n",
    "\n",
    "        print(uncensored)\n",
    "    print(votes)\n",
    "\n",
    "    json.dump({\n",
    "        \"conversation_history\": conversation_history,\n",
    "        \"conversation_history_uncensored\": conversation_history_uncensored,\n",
    "        \"votes\": votes,\n",
    "        \"werewolf_names\": werewolf_names,\n",
    "        \"player_names\": player_names,\n",
    "        \"model\": model\n",
    "    }, open(f\"../data/experiment_gpt3.5-turbo-16k/game_number_{game}.json\", \"w+\"), indent=4)"
   ]
  },
  {
   "cell_type": "code",
   "execution_count": null,
   "metadata": {},
   "outputs": [],
   "source": [
    "print(votes)"
   ]
  },
  {
   "cell_type": "code",
   "execution_count": null,
   "metadata": {},
   "outputs": [],
   "source": []
  }
 ],
 "metadata": {
  "kernelspec": {
   "display_name": "pytorch_env",
   "language": "python",
   "name": "python3"
  },
  "language_info": {
   "codemirror_mode": {
    "name": "ipython",
    "version": 3
   },
   "file_extension": ".py",
   "mimetype": "text/x-python",
   "name": "python",
   "nbconvert_exporter": "python",
   "pygments_lexer": "ipython3",
   "version": "3.8.16"
  }
 },
 "nbformat": 4,
 "nbformat_minor": 2
}
